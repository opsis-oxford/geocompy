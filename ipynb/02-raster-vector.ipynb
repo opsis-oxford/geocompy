{
 "cells": [
  {
   "cell_type": "code",
   "execution_count": null,
   "id": "1cfd681e",
   "metadata": {},
   "outputs": [],
   "source": [
    "from pathlib import Path\n",
    "import rasterio\n",
    "import geopandas as gpd\n",
    "\n",
    "data_dir = Path(\"../data\")\n",
    "\n",
    "# read DEM\n",
    "dem = rasterio.open(data_dir / \"oxf_dem.tif\")\n",
    "\n",
    "# have a look at the data?\n",
    "dem.read()"
   ]
  },
  {
   "cell_type": "code",
   "execution_count": null,
   "id": "5127edc1-52e5-4e00-8112-0567aff34ec6",
   "metadata": {},
   "outputs": [],
   "source": [
    "import matplotlib.pyplot as plt\n",
    "import numpy as np\n",
    "\n",
    "f, ax = plt.subplots()\n",
    "flattened = dem.read().ravel()\n",
    "ax.hist(flattened, bins=50)\n",
    "ax.axvline(np.quantile(flattened, 0.95), ls='--', color='k', label=\"95th percentile\")\n",
    "ax.legend()\n",
    "ax.set_xlabel(\"Elevation (m)\")\n"
   ]
  },
  {
   "cell_type": "code",
   "execution_count": null,
   "id": "e0363183",
   "metadata": {},
   "outputs": [],
   "source": [
    "import osmnx\n",
    "\n",
    "query = \"Oxford, UK\"\n",
    "lat, lon = osmnx.geocoder.geocode(query)\n",
    "tags = {\"amenity\": True}\n",
    "points = osmnx.features.features_from_point((lat, lon), tags, 3000)\n",
    "points.head()"
   ]
  },
  {
   "cell_type": "code",
   "execution_count": null,
   "id": "7b2ddcd6",
   "metadata": {},
   "outputs": [],
   "source": [
    "post_boxes = points.loc[points[\"amenity\"] == \"post_box\", [\"geometry\"]].copy()\n",
    "post_boxes.plot()"
   ]
  },
  {
   "cell_type": "code",
   "execution_count": null,
   "id": "268626d0",
   "metadata": {},
   "outputs": [],
   "source": [
    "import rasterio.plot\n",
    "\n",
    "# plot our DEM and boundary data\n",
    "fig, ax = plt.subplots()\n",
    "rasterio.plot.show(dem, ax=ax)\n",
    "post_boxes.to_crs(dem.crs).plot(ax=ax, color='r')"
   ]
  },
  {
   "cell_type": "code",
   "execution_count": 19,
   "id": "0c69263a-9917-42ea-9cd7-f89af2e5a839",
   "metadata": {},
   "outputs": [],
   "source": [
    "import rasterstats\n",
    "\n",
    "# raster extraction (points)\n",
    "result = rasterstats.point_query(\n",
    "    post_boxes.to_crs(dem.crs),\n",
    "    dem.read(1),\n",
    "    affine = dem.transform,\n",
    ")\n",
    "post_boxes[\"height_m\"] = result"
   ]
  },
  {
   "cell_type": "code",
   "execution_count": null,
   "id": "c3a31994",
   "metadata": {},
   "outputs": [],
   "source": [
    "post_boxes"
   ]
  },
  {
   "cell_type": "code",
   "execution_count": null,
   "id": "33f5bdf4-191f-4e30-b7fb-64729510b3af",
   "metadata": {},
   "outputs": [],
   "source": [
    "# point height distribution\n",
    "post_boxes.height_m.plot(kind=\"hist\")"
   ]
  },
  {
   "cell_type": "code",
   "execution_count": null,
   "id": "5650d9a9-dd6b-4c8e-95dd-8d538db1e4fb",
   "metadata": {},
   "outputs": [],
   "source": [
    "import shapely\n",
    "\n",
    "# extract a transect\n",
    "coords = [[-1.33, 51.77], [-1.18, 51.75]]\n",
    "transect = shapely.LineString(coords)\n",
    "transect_gdf = gpd.GeoSeries(transect, crs=4326)\n",
    "print(transect_gdf)"
   ]
  },
  {
   "cell_type": "code",
   "execution_count": null,
   "id": "ef9ba240-16e7-4302-aa6f-286512e04450",
   "metadata": {},
   "outputs": [],
   "source": [
    "# project to CRS in meters\n",
    "transect_proj_gdf = transect_gdf.to_crs(transect_gdf.estimate_utm_crs())\n",
    "transect_proj = transect_proj_gdf.iloc[0]\n",
    "print(transect_proj_gdf)"
   ]
  },
  {
   "cell_type": "code",
   "execution_count": null,
   "id": "6bb9a1b0-b571-4cc5-9963-555323a18aa0",
   "metadata": {},
   "outputs": [],
   "source": [
    "# get 250m intervals of distance along transect\n",
    "distances = np.arange(0, transect_proj.length, 250)\n",
    "distances[:5]"
   ]
  },
  {
   "cell_type": "code",
   "execution_count": null,
   "id": "8257ce27-32a4-453e-87f7-b7be8d397f48",
   "metadata": {},
   "outputs": [],
   "source": [
    "transect_pnt = [transect_proj.interpolate(distance) for distance in distances]\n",
    "transect_pnt = gpd.GeoSeries(transect_pnt, crs=transect_proj_gdf.crs).to_crs(dem.crs)\n",
    "transect_pnt.head()"
   ]
  },
  {
   "cell_type": "code",
   "execution_count": null,
   "id": "e8285d72-9c1e-46b4-9856-ff593eb1417b",
   "metadata": {},
   "outputs": [],
   "source": [
    "import rasterstats\n",
    "\n",
    "# sample the heights along the transect\n",
    "result = rasterstats.point_query(\n",
    "    transect_pnt,\n",
    "    dem.read(1),\n",
    "    nodata = dem.nodata,\n",
    "    affine = dem.transform,\n",
    "    interpolate='nearest'\n",
    ")\n",
    "# save the result to a GeoDataFrame\n",
    "transect = gpd.GeoDataFrame(geometry=transect_pnt.geometry)\n",
    "transect['dist'] = distances\n",
    "transect['elev'] = result\n",
    "transect.head()"
   ]
  },
  {
   "cell_type": "code",
   "execution_count": null,
   "id": "a60525e7-d5aa-4036-95ee-18fb9a382950",
   "metadata": {},
   "outputs": [],
   "source": [
    "f, ax = plt.subplots()\n",
    "ax.plot(transect.dist, transect.elev)\n",
    "ax.set_xlabel(\"Distance [m]\")\n",
    "ax.set_ylabel(\"Elevation [m]\")\n",
    "ax.grid()"
   ]
  },
  {
   "cell_type": "code",
   "execution_count": null,
   "id": "6c9c3701-7efc-4087-9ccb-269559c13199",
   "metadata": {},
   "outputs": [],
   "source": [
    "f, ax = plt.subplots()\n",
    "rasterio.plot.show(dem, ax=ax)\n",
    "transect.plot(ax=ax, color='white', markersize=2)\n",
    "ax.set_xlabel(\"Longitude\")\n",
    "ax.set_ylabel(\"Latitude\")"
   ]
  }
 ],
 "metadata": {
  "kernelspec": {
   "display_name": "Python 3 (ipykernel)",
   "language": "python",
   "name": "python3"
  },
  "language_info": {
   "codemirror_mode": {
    "name": "ipython",
    "version": 3
   },
   "file_extension": ".py",
   "mimetype": "text/x-python",
   "name": "python",
   "nbconvert_exporter": "python",
   "pygments_lexer": "ipython3",
   "version": "3.13.2"
  }
 },
 "nbformat": 4,
 "nbformat_minor": 5
}
