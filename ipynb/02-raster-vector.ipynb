{
 "cells": [
  {
   "cell_type": "code",
   "execution_count": 1,
   "id": "1cfd681e",
   "metadata": {},
   "outputs": [],
   "source": [
    "from pathlib import Path\n",
    "import rasterio\n",
    "import geopandas as gpd\n",
    "\n",
    "data_dir = Path(\"../data\")\n",
    "\n",
    "# read DEM\n",
    "dem = rasterio.open(data_dir / \"srtm.tif\")\n",
    "# read NP boundary\n",
    "zion_boundary = gpd.read_file(data_dir / \"zion.gpkg\")\n",
    "# read points of interest\n",
    "zion_points = gpd.read_file(data_dir / \"zion_points.gpkg\")"
   ]
  },
  {
   "cell_type": "code",
   "execution_count": null,
   "id": "6cf9e9f4-df9a-4dbb-a859-f42b5c696d96",
   "metadata": {},
   "outputs": [],
   "source": [
    "# have a look at the data?\n",
    "dem.read()"
   ]
  },
  {
   "cell_type": "code",
   "execution_count": null,
   "id": "d3c0121d-f749-4006-b465-2cc9d31f78a3",
   "metadata": {},
   "outputs": [],
   "source": [
    "zion_boundary"
   ]
  },
  {
   "cell_type": "code",
   "execution_count": null,
   "id": "e0363183",
   "metadata": {},
   "outputs": [],
   "source": [
    "zion_points.head()"
   ]
  },
  {
   "cell_type": "code",
   "execution_count": null,
   "id": "5127edc1-52e5-4e00-8112-0567aff34ec6",
   "metadata": {},
   "outputs": [],
   "source": [
    "import matplotlib.pyplot as plt\n",
    "import numpy as np\n",
    "\n",
    "f, ax = plt.subplots()\n",
    "flattened = dem.read().ravel()\n",
    "ax.hist(flattened, bins=50)\n",
    "ax.axvline(np.quantile(flattened, 0.95), ls='--', color='k', label=\"95th percentile\")\n",
    "ax.legend()\n",
    "ax.set_xlabel(\"Elevation (m)\")\n"
   ]
  },
  {
   "cell_type": "code",
   "execution_count": null,
   "id": "268626d0",
   "metadata": {},
   "outputs": [],
   "source": [
    "import rasterio.plot\n",
    "\n",
    "# plot our DEM and boundary data\n",
    "fig, ax = plt.subplots()\n",
    "rasterio.plot.show(dem, ax=ax)\n",
    "zion_boundary.to_crs(dem.crs).plot(ax=ax, color='none', edgecolor='black')"
   ]
  },
  {
   "cell_type": "code",
   "execution_count": null,
   "id": "eddd8f58",
   "metadata": {},
   "outputs": [],
   "source": [
    "# map the points\n",
    "fig, ax = plt.subplots()\n",
    "rasterio.plot.show(dem, ax=ax)\n",
    "zion_points.plot(ax=ax, color='black')"
   ]
  },
  {
   "cell_type": "code",
   "execution_count": 8,
   "id": "0c69263a-9917-42ea-9cd7-f89af2e5a839",
   "metadata": {},
   "outputs": [],
   "source": [
    "import rasterstats\n",
    "\n",
    "# raster extraction (points)\n",
    "result1 = rasterstats.point_query(\n",
    "    zion_points,\n",
    "    dem.read(1),\n",
    "    nodata = dem.nodata,\n",
    "    affine = dem.transform,\n",
    "    interpolate='nearest'\n",
    ")\n",
    "zion_points[\"height_m\"] = result1"
   ]
  },
  {
   "cell_type": "code",
   "execution_count": null,
   "id": "33f5bdf4-191f-4e30-b7fb-64729510b3af",
   "metadata": {},
   "outputs": [],
   "source": [
    "# point height distribution\n",
    "zion_points.height_m.plot(kind=\"hist\")"
   ]
  },
  {
   "cell_type": "code",
   "execution_count": null,
   "id": "5650d9a9-dd6b-4c8e-95dd-8d538db1e4fb",
   "metadata": {},
   "outputs": [],
   "source": [
    "import shapely\n",
    "\n",
    "# extract a transect\n",
    "coords = [[-113.2, 37.45], [-112.9, 37.2]]\n",
    "transect = shapely.LineString(coords)\n",
    "transect_gdf = gpd.GeoSeries(transect, crs=4326)\n",
    "print(transect_gdf)"
   ]
  },
  {
   "cell_type": "code",
   "execution_count": null,
   "id": "ef9ba240-16e7-4302-aa6f-286512e04450",
   "metadata": {},
   "outputs": [],
   "source": [
    "# project to CRS in meters\n",
    "transect_proj_gdf = transect_gdf.to_crs(transect_gdf.estimate_utm_crs())\n",
    "transect_proj = transect_proj_gdf.iloc[0]\n",
    "print(transect_proj_gdf)"
   ]
  },
  {
   "cell_type": "code",
   "execution_count": null,
   "id": "6bb9a1b0-b571-4cc5-9963-555323a18aa0",
   "metadata": {},
   "outputs": [],
   "source": [
    "# get 250m intervals of distance along transect\n",
    "distances = np.arange(0, transect_proj.length, 250)\n",
    "distances[:5]"
   ]
  },
  {
   "cell_type": "code",
   "execution_count": null,
   "id": "8257ce27-32a4-453e-87f7-b7be8d397f48",
   "metadata": {},
   "outputs": [],
   "source": [
    "zion_transect_pnt = [transect_proj.interpolate(distance) for distance in distances]\n",
    "zion_transect_pnt = gpd.GeoSeries(zion_transect_pnt, crs=transect_proj_gdf.crs).to_crs(dem.crs)\n",
    "zion_transect_pnt"
   ]
  },
  {
   "cell_type": "code",
   "execution_count": null,
   "id": "e8285d72-9c1e-46b4-9856-ff593eb1417b",
   "metadata": {},
   "outputs": [],
   "source": [
    "import rasterstats\n",
    "\n",
    "# sample the heights along the transect\n",
    "result = rasterstats.point_query(\n",
    "    zion_transect_pnt,\n",
    "    dem.read(1),\n",
    "    nodata = dem.nodata,\n",
    "    affine = dem.transform,\n",
    "    interpolate='nearest'\n",
    ")\n",
    "# save the result to a GeoDataFrame\n",
    "zion_transect = gpd.GeoDataFrame(geometry=zion_transect_pnt.geometry)\n",
    "zion_transect['dist'] = distances\n",
    "zion_transect['elev'] = result\n",
    "zion_transect"
   ]
  },
  {
   "cell_type": "code",
   "execution_count": null,
   "id": "a60525e7-d5aa-4036-95ee-18fb9a382950",
   "metadata": {},
   "outputs": [],
   "source": [
    "f, ax = plt.subplots()\n",
    "ax.plot(zion_transect.dist, zion_transect.elev)\n",
    "ax.set_xlabel(\"Distance [m]\")\n",
    "ax.set_ylabel(\"Elevation [m]\")\n",
    "ax.grid()"
   ]
  },
  {
   "cell_type": "code",
   "execution_count": null,
   "id": "6c9c3701-7efc-4087-9ccb-269559c13199",
   "metadata": {},
   "outputs": [],
   "source": [
    "f, ax = plt.subplots()\n",
    "rasterio.plot.show(dem, ax=ax)\n",
    "zion_transect.plot(ax=ax, color='white')\n",
    "ax.set_xlabel(\"Longitude\")\n",
    "ax.set_ylabel(\"Latitude\")"
   ]
  }
 ],
 "metadata": {
  "kernelspec": {
   "display_name": "Python 3 (ipykernel)",
   "language": "python",
   "name": "python3"
  },
  "language_info": {
   "codemirror_mode": {
    "name": "ipython",
    "version": 3
   },
   "file_extension": ".py",
   "mimetype": "text/x-python",
   "name": "python",
   "nbconvert_exporter": "python",
   "pygments_lexer": "ipython3",
   "version": "3.13.2"
  }
 },
 "nbformat": 4,
 "nbformat_minor": 5
}
