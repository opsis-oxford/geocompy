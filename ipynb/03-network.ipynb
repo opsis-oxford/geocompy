{
 "cells": [
  {
   "cell_type": "code",
   "execution_count": 23,
   "id": "9ae060f7",
   "metadata": {},
   "outputs": [],
   "source": [
    "import geopandas as gpd\n",
    "import networkx as nx\n",
    "from libpysal import weights\n",
    "import numpy as np\n",
    "import matplotlib.pyplot as plt\n",
    "from pathlib import Path"
   ]
  },
  {
   "cell_type": "code",
   "execution_count": 145,
   "id": "1cfd681e",
   "metadata": {},
   "outputs": [],
   "source": [
    "data_dir = Path(\"../data\")\n",
    "\n",
    "# read points of interest\n",
    "zion_points = gpd.read_file(data_dir / \"zion_points.gpkg\")\n",
    "zion_points.head()"
   ]
  },
  {
   "cell_type": "code",
   "execution_count": null,
   "id": "eddd8f58",
   "metadata": {},
   "outputs": [],
   "source": [
    "# map the points\n",
    "fig, ax = plt.subplots()\n",
    "zion_points.plot(ax=ax, color='black')\n",
    "\n",
    "for x, y, label in zip(zion_points.geometry.x, zion_points.geometry.y, zion_points.index):\n",
    "    ax.annotate(label, xy=(x, y), xytext=(3, 3), textcoords=\"offset points\")\n",
    "ax.set_xlabel(\"Longitude\")\n",
    "ax.set_ylabel(\"Latitude\")"
   ]
  },
  {
   "cell_type": "code",
   "execution_count": 127,
   "id": "8a804eda",
   "metadata": {},
   "outputs": [],
   "source": [
    "coordinates = np.column_stack((zion_points.geometry.x, zion_points.geometry.y))\n",
    "\n",
    "n_thresholds = 5\n",
    "fig, axes = plt.subplots(1, n_thresholds, figsize=(16, 3))\n",
    "for i, threshold in enumerate(np.linspace(0.01, 0.07, n_thresholds)):\n",
    "\n",
    "    dist = weights.DistanceBand.from_array(coordinates, threshold=threshold)\n",
    "    dist_graph = dist.to_networkx()\n",
    "    positions = dict(zip(dist_graph.nodes, coordinates))\n",
    "\n",
    "    nx.draw(dist_graph, pos=positions, node_size=10, ax=axes[i])\n",
    "    axes[i].set_title(f\"Threshold: {threshold:.3f}\")\n"
   ]
  },
  {
   "cell_type": "code",
   "execution_count": 143,
   "id": "717a2cc2",
   "metadata": {},
   "outputs": [],
   "source": [
    "fig, ax = plt.subplots()\n",
    "\n",
    "nx.draw_networkx_edges(dist_graph, positions, edge_color='grey', width=0.5, ax=ax)\n",
    "\n",
    "start = 9\n",
    "end = 14\n",
    "shortest_path = nx.algorithms.shortest_paths.generic.shortest_path(dist_graph, start, end)\n",
    "path_edges = list(zip(shortest_path, shortest_path[1:]))\n",
    "nx.draw_networkx_nodes(dist_graph, positions, nodelist=shortest_path, node_color='g', node_size=15, ax=ax)\n",
    "nx.draw_networkx_edges(dist_graph, positions, edgelist=path_edges, edge_color='g', ax=ax)"
   ]
  }
 ],
 "metadata": {
  "kernelspec": {
   "display_name": "Python 3 (ipykernel)",
   "language": "python",
   "name": "python3"
  }
 },
 "nbformat": 4,
 "nbformat_minor": 5
}
